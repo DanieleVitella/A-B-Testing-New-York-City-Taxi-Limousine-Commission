{
  "metadata": {
    "kernelspec": {
      "name": "python",
      "display_name": "Python (Pyodide)",
      "language": "python"
    },
    "language_info": {
      "codemirror_mode": {
        "name": "python",
        "version": 3
      },
      "file_extension": ".py",
      "mimetype": "text/x-python",
      "name": "python",
      "nbconvert_exporter": "python",
      "pygments_lexer": "ipython3",
      "version": "3.8"
    }
  },
  "nbformat_minor": 4,
  "nbformat": 4,
  "cells": [
    {
      "cell_type": "markdown",
      "source": "# A/B Testing -  New York City Taxi & Limousine Commission",
      "metadata": {}
    },
    {
      "cell_type": "markdown",
      "source": "This is a project useful for completing the course: Google Advanced Data Analytics Professional Certificate.\r\n\r\nThe purpose of this project is to demonstrate knowledge of how to prepare, create, and analyze A/B tests. \r\n**A/B test results should aim to find ways to generate more revenue for taxi cab drivers.**\r\n\r\n**Note** \r\nFor the purpose of this project, let's assume that the sample data comes from an experiment in which customers are randomly selected and divided into two groups: \r\n1) customers who are required to pay with a credit card\r\n2) customers who are required to pay with cash.\r\n\r\nWithout this assumption, we cannot draw causal conclusions about how payment method affects fare amount.\r\n\r\n**The goal** is to apply descriptive statistics and hypothesis testing in Python. **Discover if customers who use credit cards pay higher fare amounts than customers who use cash.**",
      "metadata": {}
    },
    {
      "cell_type": "markdown",
      "source": "## Task 1: Imports and data loading",
      "metadata": {}
    },
    {
      "cell_type": "code",
      "source": "import pandas as pd\nfrom scipy import stats",
      "metadata": {
        "trusted": true
      },
      "outputs": [],
      "execution_count": 1
    },
    {
      "cell_type": "code",
      "source": "taxi_data = pd.read_csv(\"2017_Yellow_Taxi_Trip_Data.csv\", index_col = 0)",
      "metadata": {
        "trusted": true
      },
      "outputs": [],
      "execution_count": 2
    },
    {
      "cell_type": "markdown",
      "source": "## Task2: Data exploration",
      "metadata": {}
    },
    {
      "cell_type": "markdown",
      "source": "Use descriptive statistics to conduct Exploratory Data Analysis (EDA).",
      "metadata": {}
    },
    {
      "cell_type": "code",
      "source": "# descriptive stats code for EDA\ntaxi_data.describe(include='all')",
      "metadata": {
        "trusted": true
      },
      "outputs": [
        {
          "execution_count": 3,
          "output_type": "execute_result",
          "data": {
            "text/plain": "            VendorID   tpep_pickup_datetime  tpep_dropoff_datetime  \\\ncount   22699.000000                  22699                  22699   \nunique           NaN                  22687                  22688   \ntop              NaN  07/03/2017 3:45:19 PM  10/18/2017 8:07:45 PM   \nfreq             NaN                      2                      2   \nmean        1.556236                    NaN                    NaN   \nstd         0.496838                    NaN                    NaN   \nmin         1.000000                    NaN                    NaN   \n25%         1.000000                    NaN                    NaN   \n50%         2.000000                    NaN                    NaN   \n75%         2.000000                    NaN                    NaN   \nmax         2.000000                    NaN                    NaN   \n\n        passenger_count  trip_distance    RatecodeID store_and_fwd_flag  \\\ncount      22699.000000   22699.000000  22699.000000              22699   \nunique              NaN            NaN           NaN                  2   \ntop                 NaN            NaN           NaN                  N   \nfreq                NaN            NaN           NaN              22600   \nmean           1.642319       2.913313      1.043394                NaN   \nstd            1.285231       3.653171      0.708391                NaN   \nmin            0.000000       0.000000      1.000000                NaN   \n25%            1.000000       0.990000      1.000000                NaN   \n50%            1.000000       1.610000      1.000000                NaN   \n75%            2.000000       3.060000      1.000000                NaN   \nmax            6.000000      33.960000     99.000000                NaN   \n\n        PULocationID  DOLocationID  payment_type   fare_amount         extra  \\\ncount   22699.000000  22699.000000  22699.000000  22699.000000  22699.000000   \nunique           NaN           NaN           NaN           NaN           NaN   \ntop              NaN           NaN           NaN           NaN           NaN   \nfreq             NaN           NaN           NaN           NaN           NaN   \nmean      162.412353    161.527997      1.336887     13.026629      0.333275   \nstd        66.633373     70.139691      0.496211     13.243791      0.463097   \nmin         1.000000      1.000000      1.000000   -120.000000     -1.000000   \n25%       114.000000    112.000000      1.000000      6.500000      0.000000   \n50%       162.000000    162.000000      1.000000      9.500000      0.000000   \n75%       233.000000    233.000000      2.000000     14.500000      0.500000   \nmax       265.000000    265.000000      4.000000    999.990000      4.500000   \n\n             mta_tax    tip_amount  tolls_amount  improvement_surcharge  \\\ncount   22699.000000  22699.000000  22699.000000           22699.000000   \nunique           NaN           NaN           NaN                    NaN   \ntop              NaN           NaN           NaN                    NaN   \nfreq             NaN           NaN           NaN                    NaN   \nmean        0.497445      1.835781      0.312542               0.299551   \nstd         0.039465      2.800626      1.399212               0.015673   \nmin        -0.500000      0.000000      0.000000              -0.300000   \n25%         0.500000      0.000000      0.000000               0.300000   \n50%         0.500000      1.350000      0.000000               0.300000   \n75%         0.500000      2.450000      0.000000               0.300000   \nmax         0.500000    200.000000     19.100000               0.300000   \n\n        total_amount  \ncount   22699.000000  \nunique           NaN  \ntop              NaN  \nfreq             NaN  \nmean       16.310502  \nstd        16.097295  \nmin      -120.300000  \n25%         8.750000  \n50%        11.800000  \n75%        17.800000  \nmax      1200.290000  ",
            "text/html": "<div>\n<style scoped>\n    .dataframe tbody tr th:only-of-type {\n        vertical-align: middle;\n    }\n\n    .dataframe tbody tr th {\n        vertical-align: top;\n    }\n\n    .dataframe thead th {\n        text-align: right;\n    }\n</style>\n<table border=\"1\" class=\"dataframe\">\n  <thead>\n    <tr style=\"text-align: right;\">\n      <th></th>\n      <th>VendorID</th>\n      <th>tpep_pickup_datetime</th>\n      <th>tpep_dropoff_datetime</th>\n      <th>passenger_count</th>\n      <th>trip_distance</th>\n      <th>RatecodeID</th>\n      <th>store_and_fwd_flag</th>\n      <th>PULocationID</th>\n      <th>DOLocationID</th>\n      <th>payment_type</th>\n      <th>fare_amount</th>\n      <th>extra</th>\n      <th>mta_tax</th>\n      <th>tip_amount</th>\n      <th>tolls_amount</th>\n      <th>improvement_surcharge</th>\n      <th>total_amount</th>\n    </tr>\n  </thead>\n  <tbody>\n    <tr>\n      <th>count</th>\n      <td>22699.000000</td>\n      <td>22699</td>\n      <td>22699</td>\n      <td>22699.000000</td>\n      <td>22699.000000</td>\n      <td>22699.000000</td>\n      <td>22699</td>\n      <td>22699.000000</td>\n      <td>22699.000000</td>\n      <td>22699.000000</td>\n      <td>22699.000000</td>\n      <td>22699.000000</td>\n      <td>22699.000000</td>\n      <td>22699.000000</td>\n      <td>22699.000000</td>\n      <td>22699.000000</td>\n      <td>22699.000000</td>\n    </tr>\n    <tr>\n      <th>unique</th>\n      <td>NaN</td>\n      <td>22687</td>\n      <td>22688</td>\n      <td>NaN</td>\n      <td>NaN</td>\n      <td>NaN</td>\n      <td>2</td>\n      <td>NaN</td>\n      <td>NaN</td>\n      <td>NaN</td>\n      <td>NaN</td>\n      <td>NaN</td>\n      <td>NaN</td>\n      <td>NaN</td>\n      <td>NaN</td>\n      <td>NaN</td>\n      <td>NaN</td>\n    </tr>\n    <tr>\n      <th>top</th>\n      <td>NaN</td>\n      <td>07/03/2017 3:45:19 PM</td>\n      <td>10/18/2017 8:07:45 PM</td>\n      <td>NaN</td>\n      <td>NaN</td>\n      <td>NaN</td>\n      <td>N</td>\n      <td>NaN</td>\n      <td>NaN</td>\n      <td>NaN</td>\n      <td>NaN</td>\n      <td>NaN</td>\n      <td>NaN</td>\n      <td>NaN</td>\n      <td>NaN</td>\n      <td>NaN</td>\n      <td>NaN</td>\n    </tr>\n    <tr>\n      <th>freq</th>\n      <td>NaN</td>\n      <td>2</td>\n      <td>2</td>\n      <td>NaN</td>\n      <td>NaN</td>\n      <td>NaN</td>\n      <td>22600</td>\n      <td>NaN</td>\n      <td>NaN</td>\n      <td>NaN</td>\n      <td>NaN</td>\n      <td>NaN</td>\n      <td>NaN</td>\n      <td>NaN</td>\n      <td>NaN</td>\n      <td>NaN</td>\n      <td>NaN</td>\n    </tr>\n    <tr>\n      <th>mean</th>\n      <td>1.556236</td>\n      <td>NaN</td>\n      <td>NaN</td>\n      <td>1.642319</td>\n      <td>2.913313</td>\n      <td>1.043394</td>\n      <td>NaN</td>\n      <td>162.412353</td>\n      <td>161.527997</td>\n      <td>1.336887</td>\n      <td>13.026629</td>\n      <td>0.333275</td>\n      <td>0.497445</td>\n      <td>1.835781</td>\n      <td>0.312542</td>\n      <td>0.299551</td>\n      <td>16.310502</td>\n    </tr>\n    <tr>\n      <th>std</th>\n      <td>0.496838</td>\n      <td>NaN</td>\n      <td>NaN</td>\n      <td>1.285231</td>\n      <td>3.653171</td>\n      <td>0.708391</td>\n      <td>NaN</td>\n      <td>66.633373</td>\n      <td>70.139691</td>\n      <td>0.496211</td>\n      <td>13.243791</td>\n      <td>0.463097</td>\n      <td>0.039465</td>\n      <td>2.800626</td>\n      <td>1.399212</td>\n      <td>0.015673</td>\n      <td>16.097295</td>\n    </tr>\n    <tr>\n      <th>min</th>\n      <td>1.000000</td>\n      <td>NaN</td>\n      <td>NaN</td>\n      <td>0.000000</td>\n      <td>0.000000</td>\n      <td>1.000000</td>\n      <td>NaN</td>\n      <td>1.000000</td>\n      <td>1.000000</td>\n      <td>1.000000</td>\n      <td>-120.000000</td>\n      <td>-1.000000</td>\n      <td>-0.500000</td>\n      <td>0.000000</td>\n      <td>0.000000</td>\n      <td>-0.300000</td>\n      <td>-120.300000</td>\n    </tr>\n    <tr>\n      <th>25%</th>\n      <td>1.000000</td>\n      <td>NaN</td>\n      <td>NaN</td>\n      <td>1.000000</td>\n      <td>0.990000</td>\n      <td>1.000000</td>\n      <td>NaN</td>\n      <td>114.000000</td>\n      <td>112.000000</td>\n      <td>1.000000</td>\n      <td>6.500000</td>\n      <td>0.000000</td>\n      <td>0.500000</td>\n      <td>0.000000</td>\n      <td>0.000000</td>\n      <td>0.300000</td>\n      <td>8.750000</td>\n    </tr>\n    <tr>\n      <th>50%</th>\n      <td>2.000000</td>\n      <td>NaN</td>\n      <td>NaN</td>\n      <td>1.000000</td>\n      <td>1.610000</td>\n      <td>1.000000</td>\n      <td>NaN</td>\n      <td>162.000000</td>\n      <td>162.000000</td>\n      <td>1.000000</td>\n      <td>9.500000</td>\n      <td>0.000000</td>\n      <td>0.500000</td>\n      <td>1.350000</td>\n      <td>0.000000</td>\n      <td>0.300000</td>\n      <td>11.800000</td>\n    </tr>\n    <tr>\n      <th>75%</th>\n      <td>2.000000</td>\n      <td>NaN</td>\n      <td>NaN</td>\n      <td>2.000000</td>\n      <td>3.060000</td>\n      <td>1.000000</td>\n      <td>NaN</td>\n      <td>233.000000</td>\n      <td>233.000000</td>\n      <td>2.000000</td>\n      <td>14.500000</td>\n      <td>0.500000</td>\n      <td>0.500000</td>\n      <td>2.450000</td>\n      <td>0.000000</td>\n      <td>0.300000</td>\n      <td>17.800000</td>\n    </tr>\n    <tr>\n      <th>max</th>\n      <td>2.000000</td>\n      <td>NaN</td>\n      <td>NaN</td>\n      <td>6.000000</td>\n      <td>33.960000</td>\n      <td>99.000000</td>\n      <td>NaN</td>\n      <td>265.000000</td>\n      <td>265.000000</td>\n      <td>4.000000</td>\n      <td>999.990000</td>\n      <td>4.500000</td>\n      <td>0.500000</td>\n      <td>200.000000</td>\n      <td>19.100000</td>\n      <td>0.300000</td>\n      <td>1200.290000</td>\n    </tr>\n  </tbody>\n</table>\n</div>"
          },
          "metadata": {}
        }
      ],
      "execution_count": 3
    },
    {
      "cell_type": "markdown",
      "source": "We are interested in the relationship between 'payment type' and the 'fare amount' the customer pays. ",
      "metadata": {}
    },
    {
      "cell_type": "code",
      "source": "taxi_data.groupby('payment_type')['fare_amount'].mean()",
      "metadata": {
        "trusted": true
      },
      "outputs": [
        {
          "execution_count": 4,
          "output_type": "execute_result",
          "data": {
            "text/plain": "payment_type\n1    13.429748\n2    12.213546\n3    12.186116\n4     9.913043\nName: fare_amount, dtype: float64"
          },
          "metadata": {}
        }
      ],
      "execution_count": 4
    },
    {
      "cell_type": "markdown",
      "source": "**Note:** In the dataset, `payment_type` is encoded in integers:\r\n*   1: Credit card\r\n*   2: Cash\r\n*   3: No charge\r\n*   4: Dispute\r\n*   5: Unknown",
      "metadata": {}
    },
    {
      "cell_type": "markdown",
      "source": "Based on the averages shown, it appears that customers who pay in credit card tend to pay a larger fare amount than customers who pay in cash. However, this difference might arise from random sampling, rather than being a true difference in fare amount. To assess whether the difference is statistically significant, you conduct a hypothesis test.",
      "metadata": {}
    },
    {
      "cell_type": "markdown",
      "source": "# Task 3: Hypothesis testing",
      "metadata": {}
    },
    {
      "cell_type": "markdown",
      "source": "Our goal in this step is to conduct a two-sample t-test. Steps for conducting a hypothesis test: \r\n\r\n\r\n1.   State the null hypothesis and the alternative hypothesis\r\n2.   Choose a signficance level\r\n3.   Find the p-value\r\n4.   Reject or fail to reject the null hypothesis ",
      "metadata": {}
    },
    {
      "cell_type": "markdown",
      "source": "$H_0$: There is no difference in the average fare amount between customers who use credit cards and customers who use cash.\r\n\r\n$H_A$: There is a difference in the average fare amount between customers who use credit cards and customers who use cash.",
      "metadata": {}
    },
    {
      "cell_type": "markdown",
      "source": " **significance level:** 5% ",
      "metadata": {}
    },
    {
      "cell_type": "code",
      "source": "#hypothesis test, A/B test\n#significance level\n\ncredit_card = taxi_data[taxi_data['payment_type'] == 1]['fare_amount']\ncash = taxi_data[taxi_data['payment_type'] == 2]['fare_amount']\n\nstats.ttest_ind(a=credit_card, b=cash, equal_var=False)",
      "metadata": {
        "trusted": true
      },
      "outputs": [
        {
          "execution_count": 5,
          "output_type": "execute_result",
          "data": {
            "text/plain": "TtestResult(statistic=6.866800855655372, pvalue=6.797387473030518e-12, df=16675.48547403633)"
          },
          "metadata": {}
        }
      ],
      "execution_count": 5
    },
    {
      "cell_type": "markdown",
      "source": "**Since the p-value is significantly smaller than the significance level of 5%, we reject the null hypothesis.**",
      "metadata": {}
    },
    {
      "cell_type": "code",
      "source": "",
      "metadata": {
        "trusted": true
      },
      "outputs": [],
      "execution_count": null
    }
  ]
}